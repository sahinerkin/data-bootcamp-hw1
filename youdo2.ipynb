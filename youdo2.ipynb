{
  "nbformat": 4,
  "nbformat_minor": 0,
  "metadata": {
    "colab": {
      "name": "youdo2.ipynb",
      "provenance": [],
      "collapsed_sections": []
    },
    "kernelspec": {
      "name": "python3",
      "display_name": "Python 3"
    },
    "language_info": {
      "name": "python"
    }
  },
  "cells": [
    {
      "cell_type": "markdown",
      "source": [
        "# Trendyol Data Science Bootcamp - You Do #2"
      ],
      "metadata": {
        "id": "-si5SLvIXN1V"
      }
    },
    {
      "cell_type": "markdown",
      "source": [
        "## Import ve datayı hazırlama"
      ],
      "metadata": {
        "id": "WwwsNeECXUeN"
      }
    },
    {
      "cell_type": "code",
      "execution_count": 97,
      "metadata": {
        "id": "euUyF-MibpSj"
      },
      "outputs": [],
      "source": [
        "import pandas as pd\n",
        "import numpy as np\n",
        "from tqdm import trange"
      ]
    },
    {
      "cell_type": "code",
      "source": [
        "df = pd.read_csv('https://files.grouplens.org/datasets/movielens/ml-100k/u.data', delimiter=r'\\t',\n",
        "                 names=['user_id', 'item_id', 'rating', 'timestamp'])\n",
        "r = df.pivot(index='user_id', columns='item_id', values='rating').values"
      ],
      "metadata": {
        "colab": {
          "base_uri": "https://localhost:8080/"
        },
        "id": "Vn0jdHCKbroA",
        "outputId": "ccf3f70b-74a2-45bb-a4e0-710e9cc9ceeb"
      },
      "execution_count": 98,
      "outputs": [
        {
          "output_type": "stream",
          "name": "stderr",
          "text": [
            "/usr/local/lib/python3.7/dist-packages/pandas/util/_decorators.py:311: ParserWarning: Falling back to the 'python' engine because the 'c' engine does not support regex separators (separators > 1 char and different from '\\s+' are interpreted as regex); you can avoid this warning by specifying engine='python'.\n",
            "  return func(*args, **kwargs)\n"
          ]
        }
      ]
    },
    {
      "cell_type": "code",
      "source": [
        "# r = np.array([[7, 6, 7, 4, 5, 4],\n",
        "#               [6, 7, np.nan, 4, 3, 4],\n",
        "#               [np.nan, 3, 3, 1, 1, np.nan],\n",
        "#               [1, 2, 3, 3, 3, 4],\n",
        "#               [1, np.nan, 1, 2, 3, 3]])"
      ],
      "metadata": {
        "id": "RKJ4Itkwbsjj"
      },
      "execution_count": 99,
      "outputs": []
    },
    {
      "cell_type": "code",
      "source": [
        "r"
      ],
      "metadata": {
        "colab": {
          "base_uri": "https://localhost:8080/"
        },
        "id": "bdKAMWv6btTq",
        "outputId": "d0fd06a8-2195-4f66-ec32-acca97441c85"
      },
      "execution_count": 100,
      "outputs": [
        {
          "output_type": "execute_result",
          "data": {
            "text/plain": [
              "array([[ 5.,  3.,  4., ..., nan, nan, nan],\n",
              "       [ 4., nan, nan, ..., nan, nan, nan],\n",
              "       [nan, nan, nan, ..., nan, nan, nan],\n",
              "       ...,\n",
              "       [ 5., nan, nan, ..., nan, nan, nan],\n",
              "       [nan, nan, nan, ..., nan, nan, nan],\n",
              "       [nan,  5., nan, ..., nan, nan, nan]])"
            ]
          },
          "metadata": {},
          "execution_count": 100
        }
      ]
    },
    {
      "cell_type": "code",
      "source": [
        "irow, jcol = np.where(~np.isnan(r))\n",
        "\n",
        "idx = np.random.choice(np.arange(100_000), 1000, replace=False)\n",
        "# idx = np.random.choice(np.arange(5), 3, replace=False)\n",
        "\n",
        "test_irow = irow[idx]\n",
        "test_jcol = jcol[idx]"
      ],
      "metadata": {
        "id": "2DqtXde6bte6"
      },
      "execution_count": 101,
      "outputs": []
    },
    {
      "cell_type": "code",
      "source": [
        "r_train = r.copy()\n",
        "r_train[test_irow, test_jcol] = np.nan"
      ],
      "metadata": {
        "id": "RELqfV5jbufM"
      },
      "execution_count": 102,
      "outputs": []
    },
    {
      "cell_type": "markdown",
      "source": [
        "## Part 1 - Gradient Descent"
      ],
      "metadata": {
        "id": "0X6_wkxRXcVf"
      }
    },
    {
      "cell_type": "code",
      "source": [
        "def gradient_descent(r: np.array, alpha=0.001, max_iteration=500, early_stopping=-1):\n",
        "  # epsilon = 0.1\n",
        "  m, n = r.shape\n",
        "  b_user, b_item = np.random.rand(m), np.random.rand(n)\n",
        "  \n",
        "  t = trange(max_iteration)\n",
        "  for _ in t:\n",
        "    loss = 0\n",
        "    grad_b_user, grad_b_item = np.zeros(m), np.zeros(n)\n",
        "\n",
        "    for u in range(r.shape[0]):\n",
        "      for j in range(r.shape[1]):\n",
        "        if np.isnan(r[u, j]):\n",
        "          continue\n",
        "        y = r[u, j]\n",
        "        y_hat = b_user[u] + b_item[j]\n",
        "\n",
        "        grad_b_user[u] -= (y - y_hat)\n",
        "        grad_b_item[j] -= (y - y_hat)\n",
        "\n",
        "        loss +=  ((y - y_hat) ** 2) / 2\n",
        "\n",
        "    # IMPLEMENT EARLY STOPPING LOGIC\n",
        "    \n",
        "    b_user -= alpha * grad_b_user\n",
        "    b_item -= alpha * grad_b_item\n",
        "\n",
        "    t.set_description(f'Loss: {loss:.2f}\\t')\n",
        "\n",
        "  return b_user, b_item"
      ],
      "metadata": {
        "id": "UmGwAE0hIYLO"
      },
      "execution_count": 103,
      "outputs": []
    },
    {
      "cell_type": "code",
      "source": [
        "b_user, b_item = gradient_descent(r_train, max_iteration=100)"
      ],
      "metadata": {
        "colab": {
          "base_uri": "https://localhost:8080/"
        },
        "id": "UZY4KRy4FjKE",
        "outputId": "771fa308-ad33-4838-d3ab-9acd15a8fbb1"
      },
      "execution_count": 105,
      "outputs": [
        {
          "output_type": "stream",
          "name": "stderr",
          "text": [
            "Loss: 41918.26\t: 100%|██████████| 100/100 [06:20<00:00,  3.80s/it]\n"
          ]
        }
      ]
    },
    {
      "cell_type": "code",
      "source": [
        "r_hat = np.zeros(r.shape)"
      ],
      "metadata": {
        "id": "JffU30S2W_5X"
      },
      "execution_count": 106,
      "outputs": []
    },
    {
      "cell_type": "code",
      "source": [
        "for u in range(r.shape[0]):\n",
        "      for j in range(r.shape[1]):\n",
        "        r_hat[u, j] = b_user[u] + b_item[j]"
      ],
      "metadata": {
        "id": "JYn-wuDsYstv"
      },
      "execution_count": 107,
      "outputs": []
    },
    {
      "cell_type": "code",
      "source": [
        "r"
      ],
      "metadata": {
        "colab": {
          "base_uri": "https://localhost:8080/"
        },
        "id": "KY0VOlSZY91-",
        "outputId": "6020644f-348d-4900-b3ee-4c9ea197451a"
      },
      "execution_count": 108,
      "outputs": [
        {
          "output_type": "execute_result",
          "data": {
            "text/plain": [
              "array([[ 5.,  3.,  4., ..., nan, nan, nan],\n",
              "       [ 4., nan, nan, ..., nan, nan, nan],\n",
              "       [nan, nan, nan, ..., nan, nan, nan],\n",
              "       ...,\n",
              "       [ 5., nan, nan, ..., nan, nan, nan],\n",
              "       [nan, nan, nan, ..., nan, nan, nan],\n",
              "       [nan,  5., nan, ..., nan, nan, nan]])"
            ]
          },
          "metadata": {},
          "execution_count": 108
        }
      ]
    },
    {
      "cell_type": "code",
      "source": [
        "np.around(r_hat, 2)"
      ],
      "metadata": {
        "colab": {
          "base_uri": "https://localhost:8080/"
        },
        "id": "HcXxngSlZH_-",
        "outputId": "eb568dfc-7c0e-4e61-a12c-3ad9ff63e4ba"
      },
      "execution_count": 121,
      "outputs": [
        {
          "output_type": "execute_result",
          "data": {
            "text/plain": [
              "array([[3.96, 3.3 , 3.12, ..., 2.16, 2.06, 2.6 ],\n",
              "       [3.96, 3.3 , 3.12, ..., 2.16, 2.06, 2.59],\n",
              "       [3.33, 2.68, 2.49, ..., 1.53, 1.43, 1.97],\n",
              "       ...,\n",
              "       [4.03, 3.37, 3.19, ..., 2.23, 2.13, 2.67],\n",
              "       [4.36, 3.71, 3.52, ..., 2.56, 2.46, 3.  ],\n",
              "       [3.85, 3.2 , 3.01, ..., 2.06, 1.96, 2.49]])"
            ]
          },
          "metadata": {},
          "execution_count": 121
        }
      ]
    },
    {
      "cell_type": "markdown",
      "source": [
        "## Part 2 - Work in Progress"
      ],
      "metadata": {
        "id": "wXNtv8a3Zfnx"
      }
    },
    {
      "cell_type": "code",
      "source": [
        ""
      ],
      "metadata": {
        "id": "dZsobbxDZhrm"
      },
      "execution_count": null,
      "outputs": []
    }
  ]
}