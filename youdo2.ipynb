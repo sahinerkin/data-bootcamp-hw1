{
  "nbformat": 4,
  "nbformat_minor": 0,
  "metadata": {
    "colab": {
      "name": "youdo2.ipynb",
      "provenance": [],
      "collapsed_sections": []
    },
    "kernelspec": {
      "name": "python3",
      "display_name": "Python 3"
    },
    "language_info": {
      "name": "python"
    }
  },
  "cells": [
    {
      "cell_type": "markdown",
      "source": [
        "# Trendyol Data Science Bootcamp - You Do #2"
      ],
      "metadata": {
        "id": "-si5SLvIXN1V"
      }
    },
    {
      "cell_type": "markdown",
      "source": [
        "## Import ve datayı hazırlama"
      ],
      "metadata": {
        "id": "WwwsNeECXUeN"
      }
    },
    {
      "cell_type": "code",
      "execution_count": 135,
      "metadata": {
        "id": "euUyF-MibpSj"
      },
      "outputs": [],
      "source": [
        "import pandas as pd\n",
        "import numpy as np\n",
        "from tqdm import trange"
      ]
    },
    {
      "cell_type": "code",
      "source": [
        "df = pd.read_csv('https://files.grouplens.org/datasets/movielens/ml-100k/u.data', delimiter=r'\\t',\n",
        "                 names=['user_id', 'item_id', 'rating', 'timestamp'])\n",
        "r = df.pivot(index='user_id', columns='item_id', values='rating').values"
      ],
      "metadata": {
        "colab": {
          "base_uri": "https://localhost:8080/"
        },
        "id": "Vn0jdHCKbroA",
        "outputId": "87c05b6a-788e-49fc-b3b8-a120f8c56e67"
      },
      "execution_count": 136,
      "outputs": [
        {
          "output_type": "stream",
          "name": "stderr",
          "text": [
            "/usr/local/lib/python3.7/dist-packages/pandas/util/_decorators.py:311: ParserWarning: Falling back to the 'python' engine because the 'c' engine does not support regex separators (separators > 1 char and different from '\\s+' are interpreted as regex); you can avoid this warning by specifying engine='python'.\n",
            "  return func(*args, **kwargs)\n"
          ]
        }
      ]
    },
    {
      "cell_type": "code",
      "source": [
        "# r = np.array([[7, 6, 7, 4, 5, 4],\n",
        "#               [6, 7, np.nan, 4, 3, 4],\n",
        "#               [np.nan, 3, 3, 1, 1, np.nan],\n",
        "#               [1, 2, 3, 3, 3, 4],\n",
        "#               [1, np.nan, 1, 2, 3, 3]])"
      ],
      "metadata": {
        "id": "RKJ4Itkwbsjj"
      },
      "execution_count": 137,
      "outputs": []
    },
    {
      "cell_type": "code",
      "source": [
        "r"
      ],
      "metadata": {
        "colab": {
          "base_uri": "https://localhost:8080/"
        },
        "id": "bdKAMWv6btTq",
        "outputId": "b72bb64f-367a-468e-c671-65fda0dbeb93"
      },
      "execution_count": 138,
      "outputs": [
        {
          "output_type": "execute_result",
          "data": {
            "text/plain": [
              "array([[ 5.,  3.,  4., ..., nan, nan, nan],\n",
              "       [ 4., nan, nan, ..., nan, nan, nan],\n",
              "       [nan, nan, nan, ..., nan, nan, nan],\n",
              "       ...,\n",
              "       [ 5., nan, nan, ..., nan, nan, nan],\n",
              "       [nan, nan, nan, ..., nan, nan, nan],\n",
              "       [nan,  5., nan, ..., nan, nan, nan]])"
            ]
          },
          "metadata": {},
          "execution_count": 138
        }
      ]
    },
    {
      "cell_type": "code",
      "source": [
        "irow, jcol = np.where(~np.isnan(r))\n",
        "\n",
        "idx = np.random.choice(np.arange(100_000), 1000, replace=False)\n",
        "# idx = np.random.choice(np.arange(5), 3, replace=False)\n",
        "\n",
        "test_irow = irow[idx]\n",
        "test_jcol = jcol[idx]"
      ],
      "metadata": {
        "id": "2DqtXde6bte6"
      },
      "execution_count": 139,
      "outputs": []
    },
    {
      "cell_type": "code",
      "source": [
        "r_train = r.copy()\n",
        "r_train[test_irow, test_jcol] = np.nan"
      ],
      "metadata": {
        "id": "RELqfV5jbufM"
      },
      "execution_count": 140,
      "outputs": []
    },
    {
      "cell_type": "markdown",
      "source": [
        "## Part 1 - Gradient Descent"
      ],
      "metadata": {
        "id": "0X6_wkxRXcVf"
      }
    },
    {
      "cell_type": "code",
      "source": [
        "def gradient_descent(r: np.array, lr=0.001, max_iteration=500, early_stopping=-1):\n",
        "  m, n = r.shape\n",
        "  b_user, b_item = np.random.rand(m), np.random.rand(n)\n",
        "  \n",
        "  loss_list = [float(\"inf\")]\n",
        "\n",
        "  t = trange(max_iteration)\n",
        "  for it in t:\n",
        "    loss = 0\n",
        "    grad_b_user, grad_b_item = np.zeros(m), np.zeros(n)\n",
        "\n",
        "    for i in range(r.shape[0]):\n",
        "      for j in range(r.shape[1]):\n",
        "        if np.isnan(r[i, j]):\n",
        "          continue\n",
        "        y = r[i, j]\n",
        "        y_hat = b_user[i] + b_item[j]\n",
        "\n",
        "        grad_b_user[i] += (y_hat - y)\n",
        "        grad_b_item[j] += (y_hat - y)\n",
        "\n",
        "        loss +=  ((y - y_hat) ** 2) / 2\n",
        "\n",
        "    b_user -= lr * grad_b_user\n",
        "    b_item -= lr * grad_b_item\n",
        "\n",
        "    if early_stopping != -1 and loss-loss_list[-1] > -early_stopping:\n",
        "            print(f\"I do early stoping at iteration {it}\")\n",
        "            break\n",
        "\n",
        "    t.set_description(f'Previous loss: {loss_list[-1]:.2f}, CURRENT LOSS: {loss:.2f}')\n",
        "    loss_list.append(loss)\n",
        "\n",
        "  loss_list = loss_list[1:]\n",
        "  return b_user, b_item, loss_list"
      ],
      "metadata": {
        "id": "UmGwAE0hIYLO"
      },
      "execution_count": 141,
      "outputs": []
    },
    {
      "cell_type": "code",
      "source": [
        "# b_user, b_item, loss_list = gradient_descent(r_train, lr=0.001, max_iteration=150, early_stopping=0.5)"
      ],
      "metadata": {
        "colab": {
          "base_uri": "https://localhost:8080/"
        },
        "id": "UZY4KRy4FjKE",
        "outputId": "83271650-e945-4399-d85b-d8bdf99ec294"
      },
      "execution_count": 90,
      "outputs": [
        {
          "output_type": "stream",
          "name": "stderr",
          "text": [
            "Previous loss: 46.10\tCURRENT LOSS: 45.60:  34%|███▍      | 51/150 [00:00<00:00, 584.30it/s]"
          ]
        },
        {
          "output_type": "stream",
          "name": "stdout",
          "text": [
            "I do early stoping at iteration 51\n"
          ]
        },
        {
          "output_type": "stream",
          "name": "stderr",
          "text": [
            "\n"
          ]
        }
      ]
    },
    {
      "cell_type": "code",
      "source": [
        "# r_hat = np.zeros(r.shape)\n",
        "\n",
        "# for u in range(r.shape[0]):\n",
        "#       for j in range(r.shape[1]):\n",
        "#         r_hat[u, j] = b_user[u] + b_item[j]"
      ],
      "metadata": {
        "id": "JffU30S2W_5X"
      },
      "execution_count": null,
      "outputs": []
    },
    {
      "cell_type": "code",
      "source": [
        "# r"
      ],
      "metadata": {
        "colab": {
          "base_uri": "https://localhost:8080/"
        },
        "id": "KY0VOlSZY91-",
        "outputId": "6020644f-348d-4900-b3ee-4c9ea197451a"
      },
      "execution_count": null,
      "outputs": [
        {
          "output_type": "execute_result",
          "data": {
            "text/plain": [
              "array([[ 5.,  3.,  4., ..., nan, nan, nan],\n",
              "       [ 4., nan, nan, ..., nan, nan, nan],\n",
              "       [nan, nan, nan, ..., nan, nan, nan],\n",
              "       ...,\n",
              "       [ 5., nan, nan, ..., nan, nan, nan],\n",
              "       [nan, nan, nan, ..., nan, nan, nan],\n",
              "       [nan,  5., nan, ..., nan, nan, nan]])"
            ]
          },
          "metadata": {},
          "execution_count": 108
        }
      ]
    },
    {
      "cell_type": "code",
      "source": [
        "# np.around(r_hat, 2)"
      ],
      "metadata": {
        "colab": {
          "base_uri": "https://localhost:8080/"
        },
        "id": "HcXxngSlZH_-",
        "outputId": "eb568dfc-7c0e-4e61-a12c-3ad9ff63e4ba"
      },
      "execution_count": null,
      "outputs": [
        {
          "output_type": "execute_result",
          "data": {
            "text/plain": [
              "array([[3.96, 3.3 , 3.12, ..., 2.16, 2.06, 2.6 ],\n",
              "       [3.96, 3.3 , 3.12, ..., 2.16, 2.06, 2.59],\n",
              "       [3.33, 2.68, 2.49, ..., 1.53, 1.43, 1.97],\n",
              "       ...,\n",
              "       [4.03, 3.37, 3.19, ..., 2.23, 2.13, 2.67],\n",
              "       [4.36, 3.71, 3.52, ..., 2.56, 2.46, 3.  ],\n",
              "       [3.85, 3.2 , 3.01, ..., 2.06, 1.96, 2.49]])"
            ]
          },
          "metadata": {},
          "execution_count": 121
        }
      ]
    },
    {
      "cell_type": "markdown",
      "source": [
        "## Part 2 - Lambda'lı loss function içeren GD"
      ],
      "metadata": {
        "id": "wXNtv8a3Zfnx"
      }
    },
    {
      "cell_type": "markdown",
      "source": [
        "### Fonksiyon üzerinde geliştirmeler"
      ],
      "metadata": {
        "id": "UBIAVXxfSXIP"
      }
    },
    {
      "cell_type": "code",
      "source": [
        "def gradient_descent2(r: np.array, lr=0.001, max_iteration=500, early_stopping=-1, lam=0.01, verbose=True, leave_bar=True):\n",
        "  m, n = r.shape\n",
        "  b_user, b_item = np.random.rand(m), np.random.rand(n)\n",
        "  \n",
        "  loss_list = [float(\"inf\")]\n",
        "\n",
        "  t = trange(max_iteration, leave=leave_bar)\n",
        "  for it in t:\n",
        "    loss = 0\n",
        "    grad_b_user, grad_b_item = np.zeros(m), np.zeros(n)\n",
        "\n",
        "    for i in range(r.shape[0]):\n",
        "      for j in range(r.shape[1]):\n",
        "        if np.isnan(r[i, j]):\n",
        "          continue\n",
        "        y = r[i, j]\n",
        "        y_hat = b_user[i] + b_item[j]\n",
        "\n",
        "        grad_b_user[i] += (y_hat - y)\n",
        "        grad_b_item[j] += (y_hat - y)\n",
        "\n",
        "        loss +=  ((y - y_hat) ** 2) / 2\n",
        "\n",
        "    grad_b_user += lam * b_user\n",
        "    grad_b_item += lam * b_item    \n",
        "    loss += (lam/2) * (np.sum(b_user ** 2) + np.sum(b_item ** 2))\n",
        "\n",
        "    b_user -= lr * grad_b_user\n",
        "    b_item -= lr * grad_b_item\n",
        "\n",
        "    if early_stopping != -1 and loss-loss_list[-1] > -early_stopping:\n",
        "      print(f\"\\nI do early stoping at iteration {it}.\")\n",
        "      break\n",
        "\n",
        "    if verbose:\n",
        "      t.set_description(f'Previous loss: {loss_list[-1]:.2f}, CURRENT LOSS: {loss:.2f}')\n",
        "    \n",
        "    loss_list.append(loss)\n",
        "  \n",
        "  loss_list = loss_list[1:]\n",
        "  return b_user, b_item, loss_list"
      ],
      "metadata": {
        "id": "dZsobbxDZhrm"
      },
      "execution_count": 146,
      "outputs": []
    },
    {
      "cell_type": "code",
      "source": [
        "# b_user, b_item, loss_list = gradient_descent2(r_train, lr=0.001, max_iteration=150, early_stopping=0.5, lam=0.02)"
      ],
      "metadata": {
        "id": "JrWWPRqfPLN8"
      },
      "execution_count": null,
      "outputs": []
    },
    {
      "cell_type": "markdown",
      "source": [
        "Part 1'deki GD fonksiyonumuz aslında Part 2'dekinin lambda=0 hiperparametreli özel hali olduğundan; yeni fonksiyonumuz ilk durum için de kullanılabilir. \n",
        "\n",
        "Aşağıdaki 2 fonksiyon çağrısı aynıdır:\n",
        "\n",
        "```\n",
        "gradient_descent(r)\n",
        "gradient_descent2(r, lam=0)\n",
        "\n",
        "```"
      ],
      "metadata": {
        "id": "MQPy6Qh_OAvQ"
      }
    },
    {
      "cell_type": "markdown",
      "source": [
        "### Test datası ile optimizasyon"
      ],
      "metadata": {
        "id": "RPcPo2reSeMf"
      }
    },
    {
      "cell_type": "code",
      "source": [
        "lambdas = np.linspace(0, 1, 11)\n",
        "lambdas = np.around(lambdas, 4)\n",
        "lambda_losses = []\n",
        "\n",
        "for lam in lambdas:\n",
        "  print(f\"Performing GD for lambda = {lam} ...\")\n",
        "  b_user, b_item, loss_list = gradient_descent2(r_train, lr=0.001, max_iteration=100, early_stopping=0.5, lam=lam, leave_bar=False)\n",
        "  test_loss = 0\n",
        "\n",
        "  for i, j in zip(test_irow, test_jcol):\n",
        "    y = r[i, j]\n",
        "    y_hat = b_user[i] + b_item[j]\n",
        "    test_loss +=  ((y - y_hat) ** 2) / 2\n",
        "\n",
        "  test_loss += (lam/2) * (np.sum(b_user ** 2) + np.sum(b_item ** 2))\n",
        "  print(f\"Test loss = {test_loss}.\\n\")\n",
        "  lambda_losses.append(test_loss)\n",
        "\n",
        "\n",
        "\n",
        "lambda_loss_analysis = dict(zip(lambdas, lambda_losses))\n",
        "\n",
        "for k, v in lambda_loss_analysis.items():\n",
        "  print(\"Lambda:\", k, \"\\tLoss:\", round(v, 4))"
      ],
      "metadata": {
        "colab": {
          "base_uri": "https://localhost:8080/"
        },
        "id": "rzg8SGeOOx4U",
        "outputId": "e0be350b-2b1a-4c51-cd9d-9b0efd1ce41f"
      },
      "execution_count": null,
      "outputs": [
        {
          "output_type": "stream",
          "name": "stdout",
          "text": [
            "Performing GD for lambda = 0.0 ...\n"
          ]
        },
        {
          "output_type": "stream",
          "name": "stderr",
          "text": [
            "Previous loss: 63374.25, CURRENT LOSS: 60592.94:   9%|▉         | 9/100 [00:29<04:59,  3.29s/it]"
          ]
        }
      ]
    },
    {
      "cell_type": "code",
      "source": [
        ""
      ],
      "metadata": {
        "id": "2Nn438pjdWrG"
      },
      "execution_count": null,
      "outputs": []
    }
  ]
}